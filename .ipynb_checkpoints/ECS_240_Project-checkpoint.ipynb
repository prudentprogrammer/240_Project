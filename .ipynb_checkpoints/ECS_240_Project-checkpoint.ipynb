{
 "cells": [
  {
   "cell_type": "markdown",
   "metadata": {},
   "source": [
    "# Import all the existing libraries and dataset"
   ]
  },
  {
   "cell_type": "code",
   "execution_count": 1,
   "metadata": {
    "collapsed": true
   },
   "outputs": [],
   "source": [
    "import numpy as np\n",
    "import pandas as pd\n",
    "from sklearn.cross_validation import train_test_split\n",
    "from sklearn.cross_validation import cross_val_predict\n",
    "from sklearn.learning_curve import validation_curve\n",
    "from sklearn.metrics import accuracy_score\n",
    "import matplotlib.pyplot as plt"
   ]
  },
  {
   "cell_type": "code",
   "execution_count": 2,
   "metadata": {
    "collapsed": false
   },
   "outputs": [],
   "source": [
    "raw_csv_path = \"./Data_Annotations.csv\"\n",
    "converted_csv_path = \"./Data_Annotations_Converted.csv\"\n",
    "raw_df = pd.read_csv(raw_csv_path)\n",
    "converted_df = pd.read_csv(converted_csv_path)"
   ]
  },
  {
   "cell_type": "code",
   "execution_count": 3,
   "metadata": {
    "collapsed": false
   },
   "outputs": [
    {
     "data": {
      "text/html": [
       "<div>\n",
       "<table border=\"1\" class=\"dataframe\">\n",
       "  <thead>\n",
       "    <tr style=\"text-align: right;\">\n",
       "      <th></th>\n",
       "      <th>Name of file</th>\n",
       "      <th>Indendation</th>\n",
       "      <th>Indendation Consistent?</th>\n",
       "      <th>Whitespace around code to improve readability?</th>\n",
       "      <th>Used == instead of equals</th>\n",
       "      <th>Single/Nondescriptive variable names</th>\n",
       "      <th>Comments</th>\n",
       "      <th>Empty Catch Block</th>\n",
       "      <th>Generic Exceptions</th>\n",
       "      <th>Explicit Initialization</th>\n",
       "      <th>Method Length</th>\n",
       "      <th>Magic Numbers</th>\n",
       "      <th># of magic numbers</th>\n",
       "      <th>Line Length</th>\n",
       "      <th>Boolean Exp Complexity</th>\n",
       "      <th>FINAL CODE QUALITY METRIC (1, Very 1, Decent, -1, Very -1)</th>\n",
       "    </tr>\n",
       "  </thead>\n",
       "  <tbody>\n",
       "    <tr>\n",
       "      <th>0</th>\n",
       "      <td>Snake.java</td>\n",
       "      <td>4</td>\n",
       "      <td>1</td>\n",
       "      <td>1</td>\n",
       "      <td>-1</td>\n",
       "      <td>2</td>\n",
       "      <td>0</td>\n",
       "      <td>-1</td>\n",
       "      <td>-1</td>\n",
       "      <td>0</td>\n",
       "      <td>6</td>\n",
       "      <td>0</td>\n",
       "      <td>0</td>\n",
       "      <td>25</td>\n",
       "      <td>-1</td>\n",
       "      <td>-1</td>\n",
       "    </tr>\n",
       "    <tr>\n",
       "      <th>1</th>\n",
       "      <td>TimeTest.java</td>\n",
       "      <td>2</td>\n",
       "      <td>1</td>\n",
       "      <td>0</td>\n",
       "      <td>-1</td>\n",
       "      <td>6</td>\n",
       "      <td>0</td>\n",
       "      <td>-1</td>\n",
       "      <td>-1</td>\n",
       "      <td>1</td>\n",
       "      <td>9</td>\n",
       "      <td>0</td>\n",
       "      <td>0</td>\n",
       "      <td>70</td>\n",
       "      <td>-1</td>\n",
       "      <td>-1</td>\n",
       "    </tr>\n",
       "    <tr>\n",
       "      <th>2</th>\n",
       "      <td>HelloWorld.java</td>\n",
       "      <td>9</td>\n",
       "      <td>0</td>\n",
       "      <td>0</td>\n",
       "      <td>-1</td>\n",
       "      <td>1</td>\n",
       "      <td>1</td>\n",
       "      <td>-1</td>\n",
       "      <td>-1</td>\n",
       "      <td>1</td>\n",
       "      <td>6</td>\n",
       "      <td>1</td>\n",
       "      <td>1</td>\n",
       "      <td>40</td>\n",
       "      <td>-1</td>\n",
       "      <td>1</td>\n",
       "    </tr>\n",
       "    <tr>\n",
       "      <th>3</th>\n",
       "      <td>NoDisconnectManager.java</td>\n",
       "      <td>2</td>\n",
       "      <td>1</td>\n",
       "      <td>1</td>\n",
       "      <td>-1</td>\n",
       "      <td>0</td>\n",
       "      <td>5</td>\n",
       "      <td>0</td>\n",
       "      <td>0</td>\n",
       "      <td>1</td>\n",
       "      <td>48</td>\n",
       "      <td>0</td>\n",
       "      <td>0</td>\n",
       "      <td>115</td>\n",
       "      <td>1</td>\n",
       "      <td>1</td>\n",
       "    </tr>\n",
       "    <tr>\n",
       "      <th>4</th>\n",
       "      <td>TestIntegerNull.java</td>\n",
       "      <td>2</td>\n",
       "      <td>1</td>\n",
       "      <td>1</td>\n",
       "      <td>1</td>\n",
       "      <td>0</td>\n",
       "      <td>0</td>\n",
       "      <td>-1</td>\n",
       "      <td>-1</td>\n",
       "      <td>1</td>\n",
       "      <td>9</td>\n",
       "      <td>0</td>\n",
       "      <td>0</td>\n",
       "      <td>40</td>\n",
       "      <td>1</td>\n",
       "      <td>-1</td>\n",
       "    </tr>\n",
       "  </tbody>\n",
       "</table>\n",
       "</div>"
      ],
      "text/plain": [
       "               Name of file  Indendation  Indendation Consistent?  \\\n",
       "0                Snake.java            4                        1   \n",
       "1             TimeTest.java            2                        1   \n",
       "2           HelloWorld.java            9                        0   \n",
       "3  NoDisconnectManager.java            2                        1   \n",
       "4      TestIntegerNull.java            2                        1   \n",
       "\n",
       "   Whitespace around code to improve readability?  Used == instead of equals  \\\n",
       "0                                               1                         -1   \n",
       "1                                               0                         -1   \n",
       "2                                               0                         -1   \n",
       "3                                               1                         -1   \n",
       "4                                               1                          1   \n",
       "\n",
       "   Single/Nondescriptive variable names  Comments  Empty Catch Block  \\\n",
       "0                                     2         0                 -1   \n",
       "1                                     6         0                 -1   \n",
       "2                                     1         1                 -1   \n",
       "3                                     0         5                  0   \n",
       "4                                     0         0                 -1   \n",
       "\n",
       "   Generic Exceptions  Explicit Initialization  Method Length  Magic Numbers  \\\n",
       "0                  -1                        0              6              0   \n",
       "1                  -1                        1              9              0   \n",
       "2                  -1                        1              6              1   \n",
       "3                   0                        1             48              0   \n",
       "4                  -1                        1              9              0   \n",
       "\n",
       "   # of magic numbers  Line Length  Boolean Exp Complexity  \\\n",
       "0                   0           25                      -1   \n",
       "1                   0           70                      -1   \n",
       "2                   1           40                      -1   \n",
       "3                   0          115                       1   \n",
       "4                   0           40                       1   \n",
       "\n",
       "   FINAL CODE QUALITY METRIC (1, Very 1, Decent, -1, Very -1)  \n",
       "0                                                 -1           \n",
       "1                                                 -1           \n",
       "2                                                  1           \n",
       "3                                                  1           \n",
       "4                                                 -1           "
      ]
     },
     "execution_count": 3,
     "metadata": {},
     "output_type": "execute_result"
    }
   ],
   "source": [
    "# Print out both the converted contents\n",
    "converted_df.head()"
   ]
  },
  {
   "cell_type": "code",
   "execution_count": 4,
   "metadata": {
    "collapsed": false
   },
   "outputs": [
    {
     "data": {
      "text/html": [
       "<div>\n",
       "<table border=\"1\" class=\"dataframe\">\n",
       "  <thead>\n",
       "    <tr style=\"text-align: right;\">\n",
       "      <th></th>\n",
       "      <th>Name of file</th>\n",
       "      <th>Indendation</th>\n",
       "      <th>Indendation Consistent?</th>\n",
       "      <th>Whitespace around code to improve readability?</th>\n",
       "      <th>Used == instead of equals</th>\n",
       "      <th>Single/Nondescriptive variable names</th>\n",
       "      <th>Comments</th>\n",
       "      <th>Empty Catch Block</th>\n",
       "      <th>Generic Exceptions</th>\n",
       "      <th>Explicit Initialization</th>\n",
       "      <th>Method Length</th>\n",
       "      <th>Magic Numbers</th>\n",
       "      <th># of magic numbers</th>\n",
       "      <th>Line Length</th>\n",
       "      <th>Boolean Exp Complexity</th>\n",
       "      <th>FINAL CODE QUALITY METRIC (Good, Very Good, Decent, Bad, Very Bad)</th>\n",
       "    </tr>\n",
       "  </thead>\n",
       "  <tbody>\n",
       "    <tr>\n",
       "      <th>0</th>\n",
       "      <td>Snake.java</td>\n",
       "      <td>4</td>\n",
       "      <td>Yes</td>\n",
       "      <td>Yes</td>\n",
       "      <td>NaN</td>\n",
       "      <td>2</td>\n",
       "      <td>0</td>\n",
       "      <td>NaN</td>\n",
       "      <td>NaN</td>\n",
       "      <td>No</td>\n",
       "      <td>6</td>\n",
       "      <td>No</td>\n",
       "      <td>0</td>\n",
       "      <td>25</td>\n",
       "      <td>NaN</td>\n",
       "      <td>Bad</td>\n",
       "    </tr>\n",
       "    <tr>\n",
       "      <th>1</th>\n",
       "      <td>TimeTest.java</td>\n",
       "      <td>2</td>\n",
       "      <td>Yes</td>\n",
       "      <td>No</td>\n",
       "      <td>NaN</td>\n",
       "      <td>6</td>\n",
       "      <td>0</td>\n",
       "      <td>NaN</td>\n",
       "      <td>NaN</td>\n",
       "      <td>Yes</td>\n",
       "      <td>9</td>\n",
       "      <td>No</td>\n",
       "      <td>0</td>\n",
       "      <td>70</td>\n",
       "      <td>NaN</td>\n",
       "      <td>Bad</td>\n",
       "    </tr>\n",
       "    <tr>\n",
       "      <th>2</th>\n",
       "      <td>HelloWorld.java</td>\n",
       "      <td>9</td>\n",
       "      <td>No</td>\n",
       "      <td>No</td>\n",
       "      <td>NaN</td>\n",
       "      <td>1</td>\n",
       "      <td>1</td>\n",
       "      <td>NaN</td>\n",
       "      <td>NaN</td>\n",
       "      <td>Yes</td>\n",
       "      <td>6</td>\n",
       "      <td>Yes</td>\n",
       "      <td>1</td>\n",
       "      <td>40</td>\n",
       "      <td>NaN</td>\n",
       "      <td>Good</td>\n",
       "    </tr>\n",
       "    <tr>\n",
       "      <th>3</th>\n",
       "      <td>NoDisconnectManager.java</td>\n",
       "      <td>2</td>\n",
       "      <td>Yes</td>\n",
       "      <td>Yes</td>\n",
       "      <td>NaN</td>\n",
       "      <td>0</td>\n",
       "      <td>5</td>\n",
       "      <td>No</td>\n",
       "      <td>No</td>\n",
       "      <td>Yes</td>\n",
       "      <td>48</td>\n",
       "      <td>No</td>\n",
       "      <td>0</td>\n",
       "      <td>115</td>\n",
       "      <td>1</td>\n",
       "      <td>Good</td>\n",
       "    </tr>\n",
       "    <tr>\n",
       "      <th>4</th>\n",
       "      <td>TestIntegerNull.java</td>\n",
       "      <td>2</td>\n",
       "      <td>Yes</td>\n",
       "      <td>Yes</td>\n",
       "      <td>Yes</td>\n",
       "      <td>0</td>\n",
       "      <td>0</td>\n",
       "      <td>NaN</td>\n",
       "      <td>NaN</td>\n",
       "      <td>Yes</td>\n",
       "      <td>9</td>\n",
       "      <td>No</td>\n",
       "      <td>0</td>\n",
       "      <td>40</td>\n",
       "      <td>1</td>\n",
       "      <td>Bad</td>\n",
       "    </tr>\n",
       "  </tbody>\n",
       "</table>\n",
       "</div>"
      ],
      "text/plain": [
       "               Name of file  Indendation Indendation Consistent?  \\\n",
       "0                Snake.java            4                     Yes   \n",
       "1             TimeTest.java            2                     Yes   \n",
       "2           HelloWorld.java            9                      No   \n",
       "3  NoDisconnectManager.java            2                     Yes   \n",
       "4      TestIntegerNull.java            2                     Yes   \n",
       "\n",
       "  Whitespace around code to improve readability? Used == instead of equals  \\\n",
       "0                                            Yes                       NaN   \n",
       "1                                             No                       NaN   \n",
       "2                                             No                       NaN   \n",
       "3                                            Yes                       NaN   \n",
       "4                                            Yes                       Yes   \n",
       "\n",
       "   Single/Nondescriptive variable names  Comments Empty Catch Block  \\\n",
       "0                                     2         0               NaN   \n",
       "1                                     6         0               NaN   \n",
       "2                                     1         1               NaN   \n",
       "3                                     0         5                No   \n",
       "4                                     0         0               NaN   \n",
       "\n",
       "  Generic Exceptions Explicit Initialization  Method Length Magic Numbers  \\\n",
       "0                NaN                      No              6            No   \n",
       "1                NaN                     Yes              9            No   \n",
       "2                NaN                     Yes              6           Yes   \n",
       "3                 No                     Yes             48            No   \n",
       "4                NaN                     Yes              9            No   \n",
       "\n",
       "   # of magic numbers  Line Length  Boolean Exp Complexity  \\\n",
       "0                   0           25                     NaN   \n",
       "1                   0           70                     NaN   \n",
       "2                   1           40                     NaN   \n",
       "3                   0          115                       1   \n",
       "4                   0           40                       1   \n",
       "\n",
       "  FINAL CODE QUALITY METRIC (Good, Very Good, Decent, Bad, Very Bad)  \n",
       "0                                                Bad                  \n",
       "1                                                Bad                  \n",
       "2                                               Good                  \n",
       "3                                               Good                  \n",
       "4                                                Bad                  "
      ]
     },
     "execution_count": 4,
     "metadata": {},
     "output_type": "execute_result"
    }
   ],
   "source": [
    "# Print out the raw contents\n",
    "raw_df.head()"
   ]
  },
  {
   "cell_type": "markdown",
   "metadata": {},
   "source": [
    "# Start the setup for models"
   ]
  },
  {
   "cell_type": "code",
   "execution_count": 5,
   "metadata": {
    "collapsed": false
   },
   "outputs": [
    {
     "data": {
      "text/html": [
       "<div>\n",
       "<table border=\"1\" class=\"dataframe\">\n",
       "  <thead>\n",
       "    <tr style=\"text-align: right;\">\n",
       "      <th></th>\n",
       "      <th>Indendation</th>\n",
       "      <th>Indendation Consistent?</th>\n",
       "      <th>Whitespace around code to improve readability?</th>\n",
       "      <th>Used == instead of equals</th>\n",
       "      <th>Single/Nondescriptive variable names</th>\n",
       "      <th>Comments</th>\n",
       "      <th>Empty Catch Block</th>\n",
       "      <th>Generic Exceptions</th>\n",
       "      <th>Explicit Initialization</th>\n",
       "      <th>Method Length</th>\n",
       "      <th>Magic Numbers</th>\n",
       "      <th># of magic numbers</th>\n",
       "      <th>Line Length</th>\n",
       "      <th>Boolean Exp Complexity</th>\n",
       "    </tr>\n",
       "  </thead>\n",
       "  <tbody>\n",
       "    <tr>\n",
       "      <th>0</th>\n",
       "      <td>4</td>\n",
       "      <td>1</td>\n",
       "      <td>1</td>\n",
       "      <td>-1</td>\n",
       "      <td>2</td>\n",
       "      <td>0</td>\n",
       "      <td>-1</td>\n",
       "      <td>-1</td>\n",
       "      <td>0</td>\n",
       "      <td>6</td>\n",
       "      <td>0</td>\n",
       "      <td>0</td>\n",
       "      <td>25</td>\n",
       "      <td>-1</td>\n",
       "    </tr>\n",
       "    <tr>\n",
       "      <th>1</th>\n",
       "      <td>2</td>\n",
       "      <td>1</td>\n",
       "      <td>0</td>\n",
       "      <td>-1</td>\n",
       "      <td>6</td>\n",
       "      <td>0</td>\n",
       "      <td>-1</td>\n",
       "      <td>-1</td>\n",
       "      <td>1</td>\n",
       "      <td>9</td>\n",
       "      <td>0</td>\n",
       "      <td>0</td>\n",
       "      <td>70</td>\n",
       "      <td>-1</td>\n",
       "    </tr>\n",
       "    <tr>\n",
       "      <th>2</th>\n",
       "      <td>9</td>\n",
       "      <td>0</td>\n",
       "      <td>0</td>\n",
       "      <td>-1</td>\n",
       "      <td>1</td>\n",
       "      <td>1</td>\n",
       "      <td>-1</td>\n",
       "      <td>-1</td>\n",
       "      <td>1</td>\n",
       "      <td>6</td>\n",
       "      <td>1</td>\n",
       "      <td>1</td>\n",
       "      <td>40</td>\n",
       "      <td>-1</td>\n",
       "    </tr>\n",
       "    <tr>\n",
       "      <th>3</th>\n",
       "      <td>2</td>\n",
       "      <td>1</td>\n",
       "      <td>1</td>\n",
       "      <td>-1</td>\n",
       "      <td>0</td>\n",
       "      <td>5</td>\n",
       "      <td>0</td>\n",
       "      <td>0</td>\n",
       "      <td>1</td>\n",
       "      <td>48</td>\n",
       "      <td>0</td>\n",
       "      <td>0</td>\n",
       "      <td>115</td>\n",
       "      <td>1</td>\n",
       "    </tr>\n",
       "    <tr>\n",
       "      <th>4</th>\n",
       "      <td>2</td>\n",
       "      <td>1</td>\n",
       "      <td>1</td>\n",
       "      <td>1</td>\n",
       "      <td>0</td>\n",
       "      <td>0</td>\n",
       "      <td>-1</td>\n",
       "      <td>-1</td>\n",
       "      <td>1</td>\n",
       "      <td>9</td>\n",
       "      <td>0</td>\n",
       "      <td>0</td>\n",
       "      <td>40</td>\n",
       "      <td>1</td>\n",
       "    </tr>\n",
       "  </tbody>\n",
       "</table>\n",
       "</div>"
      ],
      "text/plain": [
       "   Indendation  Indendation Consistent?  \\\n",
       "0            4                        1   \n",
       "1            2                        1   \n",
       "2            9                        0   \n",
       "3            2                        1   \n",
       "4            2                        1   \n",
       "\n",
       "   Whitespace around code to improve readability?  Used == instead of equals  \\\n",
       "0                                               1                         -1   \n",
       "1                                               0                         -1   \n",
       "2                                               0                         -1   \n",
       "3                                               1                         -1   \n",
       "4                                               1                          1   \n",
       "\n",
       "   Single/Nondescriptive variable names  Comments  Empty Catch Block  \\\n",
       "0                                     2         0                 -1   \n",
       "1                                     6         0                 -1   \n",
       "2                                     1         1                 -1   \n",
       "3                                     0         5                  0   \n",
       "4                                     0         0                 -1   \n",
       "\n",
       "   Generic Exceptions  Explicit Initialization  Method Length  Magic Numbers  \\\n",
       "0                  -1                        0              6              0   \n",
       "1                  -1                        1              9              0   \n",
       "2                  -1                        1              6              1   \n",
       "3                   0                        1             48              0   \n",
       "4                  -1                        1              9              0   \n",
       "\n",
       "   # of magic numbers  Line Length  Boolean Exp Complexity  \n",
       "0                   0           25                      -1  \n",
       "1                   0           70                      -1  \n",
       "2                   1           40                      -1  \n",
       "3                   0          115                       1  \n",
       "4                   0           40                       1  "
      ]
     },
     "execution_count": 5,
     "metadata": {},
     "output_type": "execute_result"
    }
   ],
   "source": [
    "features = converted_df.ix[:, 'Indendation':'Boolean Exp Complexity']\n",
    "#features.drop('Magic Numbers')\n",
    "features.head()"
   ]
  },
  {
   "cell_type": "code",
   "execution_count": 6,
   "metadata": {
    "collapsed": false
   },
   "outputs": [
    {
     "data": {
      "text/plain": [
       "0   -1\n",
       "1   -1\n",
       "2    1\n",
       "3    1\n",
       "4   -1\n",
       "Name: FINAL CODE QUALITY METRIC (1, Very 1, Decent, -1, Very -1), dtype: int64"
      ]
     },
     "execution_count": 6,
     "metadata": {},
     "output_type": "execute_result"
    }
   ],
   "source": [
    "values = converted_df['FINAL CODE QUALITY METRIC (1, Very 1, Decent, -1, Very -1)']\n",
    "values.head()"
   ]
  },
  {
   "cell_type": "code",
   "execution_count": 7,
   "metadata": {
    "collapsed": false
   },
   "outputs": [],
   "source": [
    "X_train, X_test, y_train, y_test = train_test_split(features, values, test_size = 0.20, random_state = 13)"
   ]
  },
  {
   "cell_type": "markdown",
   "metadata": {},
   "source": [
    "# Models"
   ]
  },
  {
   "cell_type": "code",
   "execution_count": 8,
   "metadata": {
    "collapsed": true
   },
   "outputs": [],
   "source": [
    "#Please run Utility Functions code  prior to the following steps. \n",
    "#Utility functions are located at the end of this notebook."
   ]
  },
  {
   "cell_type": "markdown",
   "metadata": {},
   "source": [
    "### Linear Regression"
   ]
  },
  {
   "cell_type": "code",
   "execution_count": 11,
   "metadata": {
    "collapsed": true
   },
   "outputs": [],
   "source": [
    "from sklearn import linear_model"
   ]
  },
  {
   "cell_type": "code",
   "execution_count": 12,
   "metadata": {
    "collapsed": false
   },
   "outputs": [
    {
     "data": {
      "text/plain": [
       "LinearRegression(copy_X=True, fit_intercept=True, n_jobs=1, normalize=False)"
      ]
     },
     "execution_count": 12,
     "metadata": {},
     "output_type": "execute_result"
    }
   ],
   "source": [
    "clf_linear = linear_model.LinearRegression()\n",
    "clf_linear.fit(X_train, y_train)"
   ]
  },
  {
   "cell_type": "code",
   "execution_count": 13,
   "metadata": {
    "collapsed": false
   },
   "outputs": [
    {
     "data": {
      "text/plain": [
       "array([-0.92538896,  0.59526815, -1.18657404, -0.18503957, -0.77044602,\n",
       "       -1.04100951,  0.67308216,  0.6525286 , -0.65869705, -1.14015546,\n",
       "        0.64417987,  0.48413438, -0.20490291, -0.7801846 , -0.59913956,\n",
       "        0.94163297,  0.15619541,  0.79016774, -0.20984944,  0.36702245,\n",
       "       -0.52570253, -0.23214241])"
      ]
     },
     "execution_count": 13,
     "metadata": {},
     "output_type": "execute_result"
    }
   ],
   "source": [
    "y_pred_linear = clf_linear.predict(X_test)\n",
    "y_pred_linear"
   ]
  },
  {
   "cell_type": "code",
   "execution_count": 14,
   "metadata": {
    "collapsed": false
   },
   "outputs": [],
   "source": [
    "#Convert continous predicted values from regression to class labels based on a threshold\n",
    "y_pred_threshold_linear = convert2class(y_pred_linear)"
   ]
  },
  {
   "cell_type": "code",
   "execution_count": 15,
   "metadata": {
    "collapsed": false
   },
   "outputs": [
    {
     "data": {
      "text/plain": [
       "0.90909090909090906"
      ]
     },
     "execution_count": 15,
     "metadata": {},
     "output_type": "execute_result"
    }
   ],
   "source": [
    "accuracy_score(y_test, y_pred_threshold_linear)"
   ]
  },
  {
   "cell_type": "markdown",
   "metadata": {},
   "source": [
    "### RBF Kernel SVM"
   ]
  },
  {
   "cell_type": "code",
   "execution_count": 16,
   "metadata": {
    "collapsed": true
   },
   "outputs": [],
   "source": [
    "from sklearn import svm"
   ]
  },
  {
   "cell_type": "code",
   "execution_count": 17,
   "metadata": {
    "collapsed": false
   },
   "outputs": [
    {
     "name": "stdout",
     "output_type": "stream",
     "text": [
      "[  1.00000000e-06   3.59381366e-06   1.29154967e-05   4.64158883e-05\n",
      "   1.66810054e-04   5.99484250e-04   2.15443469e-03   7.74263683e-03\n",
      "   2.78255940e-02   1.00000000e-01]\n"
     ]
    },
    {
     "name": "stderr",
     "output_type": "stream",
     "text": [
      "C:\\Users\\NelsonJ\\Anaconda2\\lib\\site-packages\\matplotlib\\collections.py:590: FutureWarning: elementwise comparison failed; returning scalar instead, but in the future will perform elementwise comparison\n",
      "  if self._edgecolors == str('face'):\n"
     ]
    }
   ],
   "source": [
    "#Validation Curve for model parameter space\n",
    "plot_validation_curve_svm(features, values, 'rbf')"
   ]
  },
  {
   "cell_type": "code",
   "execution_count": 18,
   "metadata": {
    "collapsed": false
   },
   "outputs": [
    {
     "data": {
      "text/plain": [
       "SVC(C=1.0, cache_size=200, class_weight=None, coef0=0.0,\n",
       "  decision_function_shape=None, degree=3, gamma=0.00774263683,\n",
       "  kernel='rbf', max_iter=-1, probability=False, random_state=None,\n",
       "  shrinking=True, tol=0.001, verbose=False)"
      ]
     },
     "execution_count": 18,
     "metadata": {},
     "output_type": "execute_result"
    }
   ],
   "source": [
    "clf_svm_rbf = svm.SVC(gamma = 7.74263683e-03)\n",
    "clf_svm_rbf.fit(X_train, y_train)"
   ]
  },
  {
   "cell_type": "code",
   "execution_count": 19,
   "metadata": {
    "collapsed": false
   },
   "outputs": [
    {
     "data": {
      "text/plain": [
       "array([ 1,  1, -1, -1, -1, -1,  1,  1, -1,  1,  1, -1, -1, -1,  1, -1,  1,\n",
       "        1,  1, -1,  1,  1], dtype=int64)"
      ]
     },
     "execution_count": 19,
     "metadata": {},
     "output_type": "execute_result"
    }
   ],
   "source": [
    "y_pred_svm_rbf = clf_svm_rbf.predict(X_test)\n",
    "y_pred_svm_rbf"
   ]
  },
  {
   "cell_type": "code",
   "execution_count": 178,
   "metadata": {
    "collapsed": false
   },
   "outputs": [
    {
     "data": {
      "text/plain": [
       "0.5"
      ]
     },
     "execution_count": 178,
     "metadata": {},
     "output_type": "execute_result"
    }
   ],
   "source": [
    "accuracy_score(y_test, y_pred_svm_rbf)"
   ]
  },
  {
   "cell_type": "markdown",
   "metadata": {},
   "source": [
    "### Poly Kernel SVM"
   ]
  },
  {
   "cell_type": "code",
   "execution_count": 20,
   "metadata": {
    "collapsed": false
   },
   "outputs": [
    {
     "name": "stdout",
     "output_type": "stream",
     "text": [
      "[  1.00000000e-06   3.59381366e-06   1.29154967e-05   4.64158883e-05\n",
      "   1.66810054e-04   5.99484250e-04   2.15443469e-03   7.74263683e-03\n",
      "   2.78255940e-02   1.00000000e-01]\n"
     ]
    }
   ],
   "source": [
    "#Validation Curve for model parameter space\n",
    "plot_validation_curve_svm(features, values, 'poly')"
   ]
  },
  {
   "cell_type": "code",
   "execution_count": 21,
   "metadata": {
    "collapsed": false
   },
   "outputs": [
    {
     "data": {
      "text/plain": [
       "SVC(C=1.0, cache_size=200, class_weight=None, coef0=0.0,\n",
       "  decision_function_shape=None, degree=3, gamma=0.00774263683,\n",
       "  kernel='poly', max_iter=-1, probability=False, random_state=None,\n",
       "  shrinking=True, tol=0.001, verbose=False)"
      ]
     },
     "execution_count": 21,
     "metadata": {},
     "output_type": "execute_result"
    }
   ],
   "source": [
    "clf_svm_poly = svm.SVC(gamma = 7.74263683e-03, kernel = 'poly')\n",
    "clf_svm_poly.fit(X_train, y_train)"
   ]
  },
  {
   "cell_type": "code",
   "execution_count": 22,
   "metadata": {
    "collapsed": false
   },
   "outputs": [
    {
     "data": {
      "text/plain": [
       "array([-1,  1, -1,  1, -1, -1,  1,  1, -1, -1,  1,  1, -1, -1, -1,  1, -1,\n",
       "        1, -1,  1, -1,  1], dtype=int64)"
      ]
     },
     "execution_count": 22,
     "metadata": {},
     "output_type": "execute_result"
    }
   ],
   "source": [
    "y_pred_svm_poly = clf_svm_poly.predict(X_test)\n",
    "y_pred_svm_poly"
   ]
  },
  {
   "cell_type": "code",
   "execution_count": 23,
   "metadata": {
    "collapsed": false
   },
   "outputs": [
    {
     "data": {
      "text/plain": [
       "0.77272727272727271"
      ]
     },
     "execution_count": 23,
     "metadata": {},
     "output_type": "execute_result"
    }
   ],
   "source": [
    "accuracy_score(y_test, y_pred_svm_poly)"
   ]
  },
  {
   "cell_type": "markdown",
   "metadata": {
    "collapsed": true
   },
   "source": [
    "### Random Forest"
   ]
  },
  {
   "cell_type": "code",
   "execution_count": 24,
   "metadata": {
    "collapsed": true
   },
   "outputs": [],
   "source": [
    "from sklearn.ensemble import RandomForestClassifier"
   ]
  },
  {
   "cell_type": "code",
   "execution_count": 25,
   "metadata": {
    "collapsed": false
   },
   "outputs": [
    {
     "data": {
      "text/plain": [
       "RandomForestClassifier(bootstrap=True, class_weight=None, criterion='gini',\n",
       "            max_depth=None, max_features='sqrt', max_leaf_nodes=None,\n",
       "            min_samples_leaf=1, min_samples_split=2,\n",
       "            min_weight_fraction_leaf=0.0, n_estimators=100, n_jobs=1,\n",
       "            oob_score=True, random_state=13, verbose=0, warm_start=True)"
      ]
     },
     "execution_count": 25,
     "metadata": {},
     "output_type": "execute_result"
    }
   ],
   "source": [
    "clf_random_forest = RandomForestClassifier(warm_start=True, \n",
    "                                           oob_score=True,\n",
    "                                           max_features=\"sqrt\",\n",
    "                                           n_estimators=100,\n",
    "                                           random_state=13)\n",
    "clf_random_forest.fit(X_train, y_train)"
   ]
  },
  {
   "cell_type": "code",
   "execution_count": 26,
   "metadata": {
    "collapsed": false
   },
   "outputs": [],
   "source": [
    "y_pred_random_forest = clf_random_forest.predict(X_test)"
   ]
  },
  {
   "cell_type": "code",
   "execution_count": 27,
   "metadata": {
    "collapsed": false
   },
   "outputs": [
    {
     "data": {
      "text/plain": [
       "0.90909090909090906"
      ]
     },
     "execution_count": 27,
     "metadata": {},
     "output_type": "execute_result"
    }
   ],
   "source": [
    "accuracy_score(y_test, y_pred_random_forest)"
   ]
  },
  {
   "cell_type": "markdown",
   "metadata": {},
   "source": [
    "### AdaBoost"
   ]
  },
  {
   "cell_type": "code",
   "execution_count": 28,
   "metadata": {
    "collapsed": true
   },
   "outputs": [],
   "source": [
    "from sklearn.ensemble import AdaBoostClassifier\n",
    "from sklearn.tree import DecisionTreeClassifier"
   ]
  },
  {
   "cell_type": "code",
   "execution_count": null,
   "metadata": {
    "collapsed": false
   },
   "outputs": [],
   "source": [
    "plot_validation_curve_estimators(X_train, y_train, X_test, y_test, 100, 1000, 50)"
   ]
  },
  {
   "cell_type": "code",
   "execution_count": 44,
   "metadata": {
    "collapsed": false
   },
   "outputs": [
    {
     "data": {
      "text/plain": [
       "AdaBoostClassifier(algorithm='SAMME',\n",
       "          base_estimator=DecisionTreeClassifier(class_weight=None, criterion='gini', max_depth=1,\n",
       "            max_features=None, max_leaf_nodes=None, min_samples_leaf=1,\n",
       "            min_samples_split=2, min_weight_fraction_leaf=0.0,\n",
       "            presort=False, random_state=None, splitter='best'),\n",
       "          learning_rate=1.0, n_estimators=600, random_state=None)"
      ]
     },
     "execution_count": 44,
     "metadata": {},
     "output_type": "execute_result"
    }
   ],
   "source": [
    "clf_ada = AdaBoostClassifier(DecisionTreeClassifier(max_depth=1),\n",
    "                             algorithm=\"SAMME\",\n",
    "                             n_estimators=600)\n",
    "clf_ada.fit(X_train, y_train)"
   ]
  },
  {
   "cell_type": "code",
   "execution_count": 45,
   "metadata": {
    "collapsed": true
   },
   "outputs": [],
   "source": [
    "y_pred_ada = clf_ada.predict(X_test)"
   ]
  },
  {
   "cell_type": "code",
   "execution_count": 46,
   "metadata": {
    "collapsed": false
   },
   "outputs": [
    {
     "data": {
      "text/plain": [
       "0.95454545454545459"
      ]
     },
     "execution_count": 46,
     "metadata": {},
     "output_type": "execute_result"
    }
   ],
   "source": [
    "accuracy_score(y_test, y_pred_ada)"
   ]
  },
  {
   "cell_type": "markdown",
   "metadata": {},
   "source": [
    "### Utility Functions"
   ]
  },
  {
   "cell_type": "code",
   "execution_count": 9,
   "metadata": {
    "collapsed": true
   },
   "outputs": [],
   "source": [
    "#Plot the cv and training scores\n",
    "def plot_validation_curve_svm(X, y, kernel):\n",
    "    #Return numbers spaced evenly on a log scale.\n",
    "    param_range = np.logspace(-6, -1, 10)\n",
    "    print(np.logspace(-6, -1, 10))\n",
    "    train_scores, test_scores = validation_curve(\n",
    "        svm.SVC(kernel = kernel), X, y, param_name=\"gamma\", param_range=param_range,\n",
    "        cv=10, scoring=\"accuracy\", n_jobs=1)\n",
    "    train_scores_mean = np.mean(train_scores, axis=1)\n",
    "    train_scores_std = np.std(train_scores, axis=1)\n",
    "    test_scores_mean = np.mean(test_scores, axis=1)\n",
    "    test_scores_std = np.std(test_scores, axis=1)\n",
    "\n",
    "    plt.title(\"Validation Curve with SVM\")\n",
    "    plt.xlabel(\"$\\gamma$\")\n",
    "    plt.ylabel(\"Score\")\n",
    "    plt.ylim(0.0, 1.1)\n",
    "    plt.semilogx(param_range, train_scores_mean, label=\"Training score\", color=\"r\")\n",
    "    plt.fill_between(param_range, train_scores_mean - train_scores_std,\n",
    "                     train_scores_mean + train_scores_std, alpha=0.2, color=\"r\")\n",
    "    plt.semilogx(param_range, test_scores_mean, label=\"Cross-validation score\",\n",
    "                 color=\"g\")\n",
    "    plt.fill_between(param_range, test_scores_mean - test_scores_std,\n",
    "                     test_scores_mean + test_scores_std, alpha=0.2, color=\"g\")\n",
    "    plt.legend(loc=\"best\")\n",
    "    plt.show()"
   ]
  },
  {
   "cell_type": "code",
   "execution_count": 10,
   "metadata": {
    "collapsed": true
   },
   "outputs": [],
   "source": [
    "#Convert continous predicted values from regression to class labels based on a threshold\n",
    "def convert2class(y_pred):\n",
    "    y_pred_threshold = []\n",
    "    for x in y_pred:\n",
    "        if x >= 0: y_pred_threshold.append(1)\n",
    "        else: y_pred_threshold.append(-1)\n",
    "    return y_pred_threshold"
   ]
  },
  {
   "cell_type": "code",
   "execution_count": 54,
   "metadata": {
    "collapsed": false
   },
   "outputs": [],
   "source": [
    "def plot_validation_curve_estimators(X_train, y_train, X_test, y_test, n_estimators_min, \n",
    "                                     n_estimators_max, increment_size):\n",
    "    #List of accuracies for each estimator size\n",
    "    acc, est = [], []\n",
    "    for estimators in range(n_estimators_min, n_estimators_max, increment_size):\n",
    "        clf_ada = AdaBoostClassifier(DecisionTreeClassifier(max_depth=1),\n",
    "                                 algorithm=\"SAMME\",\n",
    "                                 n_estimators=estimators)\n",
    "        clf_ada.fit(X_train, y_train)\n",
    "\n",
    "        y_pred_ada = clf_ada.predict(X_test)\n",
    "\n",
    "        acc.append(accuracy_score(y_test, y_pred_ada))\n",
    "        est.append(estimators)\n",
    "    #Graph accuracy vs estimators\n",
    "    plt.title(\"Parameter Validation Curve for # Estimators\")\n",
    "    plt.xlabel(\"# estimators\")\n",
    "    plt.ylabel(\"Accuracy\")\n",
    "    plt.plot(est, acc)\n",
    "    plt.show()\n",
    "    print(acc)"
   ]
  },
  {
   "cell_type": "code",
   "execution_count": null,
   "metadata": {
    "collapsed": true
   },
   "outputs": [],
   "source": []
  }
 ],
 "metadata": {
  "kernelspec": {
   "display_name": "Python 2",
   "language": "python",
   "name": "python2"
  },
  "language_info": {
   "codemirror_mode": {
    "name": "ipython",
    "version": 2
   },
   "file_extension": ".py",
   "mimetype": "text/x-python",
   "name": "python",
   "nbconvert_exporter": "python",
   "pygments_lexer": "ipython2",
   "version": "2.7.11"
  }
 },
 "nbformat": 4,
 "nbformat_minor": 0
}
