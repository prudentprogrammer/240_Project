{
 "cells": [
  {
   "cell_type": "markdown",
   "metadata": {},
   "source": [
    "# Import all the existing libraries and dataset"
   ]
  },
  {
   "cell_type": "code",
   "execution_count": 35,
   "metadata": {
    "collapsed": true
   },
   "outputs": [],
   "source": [
    "import numpy as np\n",
    "import pandas as pd\n",
    "from sklearn.cross_validation import train_test_split"
   ]
  },
  {
   "cell_type": "code",
   "execution_count": 14,
   "metadata": {
    "collapsed": true
   },
   "outputs": [],
   "source": [
    "raw_csv_path = \"./Data_Annotations.csv\"\n",
    "converted_csv_path = \"./Data_Annotations_Converted.csv\"\n",
    "raw_df = pd.read_csv(csv_path)\n",
    "converted_df = pd.read_csv(converted_csv_path)"
   ]
  },
  {
   "cell_type": "code",
   "execution_count": 17,
   "metadata": {
    "collapsed": false
   },
   "outputs": [
    {
     "data": {
      "text/html": [
       "<div>\n",
       "<table border=\"1\" class=\"dataframe\">\n",
       "  <thead>\n",
       "    <tr style=\"text-align: right;\">\n",
       "      <th></th>\n",
       "      <th>Name of file</th>\n",
       "      <th>Indendation</th>\n",
       "      <th>Indendation Consistent?</th>\n",
       "      <th>Whitespace around code to improve readability?</th>\n",
       "      <th>Used == instead of equals</th>\n",
       "      <th>Single/Nondescriptive variable names</th>\n",
       "      <th>Comments</th>\n",
       "      <th>Empty Catch Block</th>\n",
       "      <th>Generic Exceptions</th>\n",
       "      <th>Explicit Initialization</th>\n",
       "      <th>Method Length</th>\n",
       "      <th>Magic Numbers</th>\n",
       "      <th># of magic numbers</th>\n",
       "      <th>Line Length</th>\n",
       "      <th>Boolean Exp Complexity</th>\n",
       "      <th>FINAL CODE QUALITY METRIC (1, Very 1, Decent, -1, Very -1)</th>\n",
       "    </tr>\n",
       "  </thead>\n",
       "  <tbody>\n",
       "    <tr>\n",
       "      <th>0</th>\n",
       "      <td>Snake.java</td>\n",
       "      <td>4</td>\n",
       "      <td>1</td>\n",
       "      <td>1</td>\n",
       "      <td>-1</td>\n",
       "      <td>2</td>\n",
       "      <td>0</td>\n",
       "      <td>-1</td>\n",
       "      <td>-1</td>\n",
       "      <td>0</td>\n",
       "      <td>6</td>\n",
       "      <td>0</td>\n",
       "      <td>0</td>\n",
       "      <td>25</td>\n",
       "      <td>-1</td>\n",
       "      <td>-1</td>\n",
       "    </tr>\n",
       "    <tr>\n",
       "      <th>1</th>\n",
       "      <td>TimeTest.java</td>\n",
       "      <td>2</td>\n",
       "      <td>1</td>\n",
       "      <td>0</td>\n",
       "      <td>-1</td>\n",
       "      <td>6</td>\n",
       "      <td>0</td>\n",
       "      <td>-1</td>\n",
       "      <td>-1</td>\n",
       "      <td>1</td>\n",
       "      <td>9</td>\n",
       "      <td>0</td>\n",
       "      <td>0</td>\n",
       "      <td>70</td>\n",
       "      <td>-1</td>\n",
       "      <td>-1</td>\n",
       "    </tr>\n",
       "    <tr>\n",
       "      <th>2</th>\n",
       "      <td>HelloWorld.java</td>\n",
       "      <td>9</td>\n",
       "      <td>0</td>\n",
       "      <td>0</td>\n",
       "      <td>-1</td>\n",
       "      <td>1</td>\n",
       "      <td>1</td>\n",
       "      <td>-1</td>\n",
       "      <td>-1</td>\n",
       "      <td>1</td>\n",
       "      <td>6</td>\n",
       "      <td>1</td>\n",
       "      <td>1</td>\n",
       "      <td>40</td>\n",
       "      <td>-1</td>\n",
       "      <td>1</td>\n",
       "    </tr>\n",
       "    <tr>\n",
       "      <th>3</th>\n",
       "      <td>NoDisconnectManager.java</td>\n",
       "      <td>2</td>\n",
       "      <td>1</td>\n",
       "      <td>1</td>\n",
       "      <td>-1</td>\n",
       "      <td>0</td>\n",
       "      <td>5</td>\n",
       "      <td>0</td>\n",
       "      <td>0</td>\n",
       "      <td>1</td>\n",
       "      <td>48</td>\n",
       "      <td>0</td>\n",
       "      <td>0</td>\n",
       "      <td>115</td>\n",
       "      <td>1</td>\n",
       "      <td>1</td>\n",
       "    </tr>\n",
       "    <tr>\n",
       "      <th>4</th>\n",
       "      <td>TestIntegerNull.java</td>\n",
       "      <td>2</td>\n",
       "      <td>1</td>\n",
       "      <td>1</td>\n",
       "      <td>1</td>\n",
       "      <td>0</td>\n",
       "      <td>0</td>\n",
       "      <td>-1</td>\n",
       "      <td>-1</td>\n",
       "      <td>1</td>\n",
       "      <td>9</td>\n",
       "      <td>0</td>\n",
       "      <td>0</td>\n",
       "      <td>40</td>\n",
       "      <td>1</td>\n",
       "      <td>-1</td>\n",
       "    </tr>\n",
       "  </tbody>\n",
       "</table>\n",
       "</div>"
      ],
      "text/plain": [
       "               Name of file  Indendation  Indendation Consistent?  \\\n",
       "0                Snake.java            4                        1   \n",
       "1             TimeTest.java            2                        1   \n",
       "2           HelloWorld.java            9                        0   \n",
       "3  NoDisconnectManager.java            2                        1   \n",
       "4      TestIntegerNull.java            2                        1   \n",
       "\n",
       "   Whitespace around code to improve readability?  Used == instead of equals  \\\n",
       "0                                               1                         -1   \n",
       "1                                               0                         -1   \n",
       "2                                               0                         -1   \n",
       "3                                               1                         -1   \n",
       "4                                               1                          1   \n",
       "\n",
       "   Single/Nondescriptive variable names  Comments  Empty Catch Block  \\\n",
       "0                                     2         0                 -1   \n",
       "1                                     6         0                 -1   \n",
       "2                                     1         1                 -1   \n",
       "3                                     0         5                  0   \n",
       "4                                     0         0                 -1   \n",
       "\n",
       "   Generic Exceptions  Explicit Initialization  Method Length  Magic Numbers  \\\n",
       "0                  -1                        0              6              0   \n",
       "1                  -1                        1              9              0   \n",
       "2                  -1                        1              6              1   \n",
       "3                   0                        1             48              0   \n",
       "4                  -1                        1              9              0   \n",
       "\n",
       "   # of magic numbers  Line Length  Boolean Exp Complexity  \\\n",
       "0                   0           25                      -1   \n",
       "1                   0           70                      -1   \n",
       "2                   1           40                      -1   \n",
       "3                   0          115                       1   \n",
       "4                   0           40                       1   \n",
       "\n",
       "   FINAL CODE QUALITY METRIC (1, Very 1, Decent, -1, Very -1)  \n",
       "0                                                 -1           \n",
       "1                                                 -1           \n",
       "2                                                  1           \n",
       "3                                                  1           \n",
       "4                                                 -1           "
      ]
     },
     "execution_count": 17,
     "metadata": {},
     "output_type": "execute_result"
    }
   ],
   "source": [
    "# Print out both the converted contents\n",
    "converted_df.head()"
   ]
  },
  {
   "cell_type": "code",
   "execution_count": 18,
   "metadata": {
    "collapsed": false
   },
   "outputs": [
    {
     "data": {
      "text/html": [
       "<div>\n",
       "<table border=\"1\" class=\"dataframe\">\n",
       "  <thead>\n",
       "    <tr style=\"text-align: right;\">\n",
       "      <th></th>\n",
       "      <th>Name of file</th>\n",
       "      <th>Indendation</th>\n",
       "      <th>Indendation Consistent?</th>\n",
       "      <th>Whitespace around code to improve readability?</th>\n",
       "      <th>Used == instead of equals</th>\n",
       "      <th>Single/Nondescriptive variable names</th>\n",
       "      <th>Comments</th>\n",
       "      <th>Empty Catch Block</th>\n",
       "      <th>Generic Exceptions</th>\n",
       "      <th>Explicit Initialization</th>\n",
       "      <th>Method Length</th>\n",
       "      <th>Magic Numbers</th>\n",
       "      <th># of magic numbers</th>\n",
       "      <th>Line Length</th>\n",
       "      <th>Boolean Exp Complexity</th>\n",
       "      <th>FINAL CODE QUALITY METRIC (Good, Very Good, Decent, Bad, Very Bad)</th>\n",
       "    </tr>\n",
       "  </thead>\n",
       "  <tbody>\n",
       "    <tr>\n",
       "      <th>0</th>\n",
       "      <td>Snake.java</td>\n",
       "      <td>4</td>\n",
       "      <td>Yes</td>\n",
       "      <td>Yes</td>\n",
       "      <td>NaN</td>\n",
       "      <td>2</td>\n",
       "      <td>0</td>\n",
       "      <td>NaN</td>\n",
       "      <td>NaN</td>\n",
       "      <td>No</td>\n",
       "      <td>6</td>\n",
       "      <td>No</td>\n",
       "      <td>0</td>\n",
       "      <td>25</td>\n",
       "      <td>NaN</td>\n",
       "      <td>Bad</td>\n",
       "    </tr>\n",
       "    <tr>\n",
       "      <th>1</th>\n",
       "      <td>TimeTest.java</td>\n",
       "      <td>2</td>\n",
       "      <td>Yes</td>\n",
       "      <td>No</td>\n",
       "      <td>NaN</td>\n",
       "      <td>6</td>\n",
       "      <td>0</td>\n",
       "      <td>NaN</td>\n",
       "      <td>NaN</td>\n",
       "      <td>Yes</td>\n",
       "      <td>9</td>\n",
       "      <td>No</td>\n",
       "      <td>0</td>\n",
       "      <td>70</td>\n",
       "      <td>NaN</td>\n",
       "      <td>Bad</td>\n",
       "    </tr>\n",
       "    <tr>\n",
       "      <th>2</th>\n",
       "      <td>HelloWorld.java</td>\n",
       "      <td>9</td>\n",
       "      <td>No</td>\n",
       "      <td>No</td>\n",
       "      <td>NaN</td>\n",
       "      <td>1</td>\n",
       "      <td>1</td>\n",
       "      <td>NaN</td>\n",
       "      <td>NaN</td>\n",
       "      <td>Yes</td>\n",
       "      <td>6</td>\n",
       "      <td>Yes</td>\n",
       "      <td>1</td>\n",
       "      <td>40</td>\n",
       "      <td>NaN</td>\n",
       "      <td>Good</td>\n",
       "    </tr>\n",
       "    <tr>\n",
       "      <th>3</th>\n",
       "      <td>NoDisconnectManager.java</td>\n",
       "      <td>2</td>\n",
       "      <td>Yes</td>\n",
       "      <td>Yes</td>\n",
       "      <td>NaN</td>\n",
       "      <td>0</td>\n",
       "      <td>5</td>\n",
       "      <td>No</td>\n",
       "      <td>No</td>\n",
       "      <td>Yes</td>\n",
       "      <td>48</td>\n",
       "      <td>No</td>\n",
       "      <td>0</td>\n",
       "      <td>115</td>\n",
       "      <td>1</td>\n",
       "      <td>Good</td>\n",
       "    </tr>\n",
       "    <tr>\n",
       "      <th>4</th>\n",
       "      <td>TestIntegerNull.java</td>\n",
       "      <td>2</td>\n",
       "      <td>Yes</td>\n",
       "      <td>Yes</td>\n",
       "      <td>Yes</td>\n",
       "      <td>0</td>\n",
       "      <td>0</td>\n",
       "      <td>NaN</td>\n",
       "      <td>NaN</td>\n",
       "      <td>Yes</td>\n",
       "      <td>9</td>\n",
       "      <td>No</td>\n",
       "      <td>0</td>\n",
       "      <td>40</td>\n",
       "      <td>1</td>\n",
       "      <td>Bad</td>\n",
       "    </tr>\n",
       "  </tbody>\n",
       "</table>\n",
       "</div>"
      ],
      "text/plain": [
       "               Name of file  Indendation Indendation Consistent?  \\\n",
       "0                Snake.java            4                     Yes   \n",
       "1             TimeTest.java            2                     Yes   \n",
       "2           HelloWorld.java            9                      No   \n",
       "3  NoDisconnectManager.java            2                     Yes   \n",
       "4      TestIntegerNull.java            2                     Yes   \n",
       "\n",
       "  Whitespace around code to improve readability? Used == instead of equals  \\\n",
       "0                                            Yes                       NaN   \n",
       "1                                             No                       NaN   \n",
       "2                                             No                       NaN   \n",
       "3                                            Yes                       NaN   \n",
       "4                                            Yes                       Yes   \n",
       "\n",
       "   Single/Nondescriptive variable names  Comments Empty Catch Block  \\\n",
       "0                                     2         0               NaN   \n",
       "1                                     6         0               NaN   \n",
       "2                                     1         1               NaN   \n",
       "3                                     0         5                No   \n",
       "4                                     0         0               NaN   \n",
       "\n",
       "  Generic Exceptions Explicit Initialization  Method Length Magic Numbers  \\\n",
       "0                NaN                      No              6            No   \n",
       "1                NaN                     Yes              9            No   \n",
       "2                NaN                     Yes              6           Yes   \n",
       "3                 No                     Yes             48            No   \n",
       "4                NaN                     Yes              9            No   \n",
       "\n",
       "   # of magic numbers  Line Length  Boolean Exp Complexity  \\\n",
       "0                   0           25                     NaN   \n",
       "1                   0           70                     NaN   \n",
       "2                   1           40                     NaN   \n",
       "3                   0          115                       1   \n",
       "4                   0           40                       1   \n",
       "\n",
       "  FINAL CODE QUALITY METRIC (Good, Very Good, Decent, Bad, Very Bad)  \n",
       "0                                                Bad                  \n",
       "1                                                Bad                  \n",
       "2                                               Good                  \n",
       "3                                               Good                  \n",
       "4                                                Bad                  "
      ]
     },
     "execution_count": 18,
     "metadata": {},
     "output_type": "execute_result"
    }
   ],
   "source": [
    "# Print out the raw contents\n",
    "raw_df.head()"
   ]
  },
  {
   "cell_type": "markdown",
   "metadata": {},
   "source": [
    "# Start the setup for models"
   ]
  },
  {
   "cell_type": "code",
   "execution_count": 24,
   "metadata": {
    "collapsed": false
   },
   "outputs": [
    {
     "data": {
      "text/html": [
       "<div>\n",
       "<table border=\"1\" class=\"dataframe\">\n",
       "  <thead>\n",
       "    <tr style=\"text-align: right;\">\n",
       "      <th></th>\n",
       "      <th>Indendation</th>\n",
       "      <th>Indendation Consistent?</th>\n",
       "      <th>Whitespace around code to improve readability?</th>\n",
       "      <th>Used == instead of equals</th>\n",
       "      <th>Single/Nondescriptive variable names</th>\n",
       "      <th>Comments</th>\n",
       "      <th>Empty Catch Block</th>\n",
       "      <th>Generic Exceptions</th>\n",
       "      <th>Explicit Initialization</th>\n",
       "      <th>Method Length</th>\n",
       "      <th>Magic Numbers</th>\n",
       "      <th># of magic numbers</th>\n",
       "      <th>Line Length</th>\n",
       "      <th>Boolean Exp Complexity</th>\n",
       "    </tr>\n",
       "  </thead>\n",
       "  <tbody>\n",
       "    <tr>\n",
       "      <th>0</th>\n",
       "      <td>4</td>\n",
       "      <td>1</td>\n",
       "      <td>1</td>\n",
       "      <td>-1</td>\n",
       "      <td>2</td>\n",
       "      <td>0</td>\n",
       "      <td>-1</td>\n",
       "      <td>-1</td>\n",
       "      <td>0</td>\n",
       "      <td>6</td>\n",
       "      <td>0</td>\n",
       "      <td>0</td>\n",
       "      <td>25</td>\n",
       "      <td>-1</td>\n",
       "    </tr>\n",
       "    <tr>\n",
       "      <th>1</th>\n",
       "      <td>2</td>\n",
       "      <td>1</td>\n",
       "      <td>0</td>\n",
       "      <td>-1</td>\n",
       "      <td>6</td>\n",
       "      <td>0</td>\n",
       "      <td>-1</td>\n",
       "      <td>-1</td>\n",
       "      <td>1</td>\n",
       "      <td>9</td>\n",
       "      <td>0</td>\n",
       "      <td>0</td>\n",
       "      <td>70</td>\n",
       "      <td>-1</td>\n",
       "    </tr>\n",
       "    <tr>\n",
       "      <th>2</th>\n",
       "      <td>9</td>\n",
       "      <td>0</td>\n",
       "      <td>0</td>\n",
       "      <td>-1</td>\n",
       "      <td>1</td>\n",
       "      <td>1</td>\n",
       "      <td>-1</td>\n",
       "      <td>-1</td>\n",
       "      <td>1</td>\n",
       "      <td>6</td>\n",
       "      <td>1</td>\n",
       "      <td>1</td>\n",
       "      <td>40</td>\n",
       "      <td>-1</td>\n",
       "    </tr>\n",
       "    <tr>\n",
       "      <th>3</th>\n",
       "      <td>2</td>\n",
       "      <td>1</td>\n",
       "      <td>1</td>\n",
       "      <td>-1</td>\n",
       "      <td>0</td>\n",
       "      <td>5</td>\n",
       "      <td>0</td>\n",
       "      <td>0</td>\n",
       "      <td>1</td>\n",
       "      <td>48</td>\n",
       "      <td>0</td>\n",
       "      <td>0</td>\n",
       "      <td>115</td>\n",
       "      <td>1</td>\n",
       "    </tr>\n",
       "    <tr>\n",
       "      <th>4</th>\n",
       "      <td>2</td>\n",
       "      <td>1</td>\n",
       "      <td>1</td>\n",
       "      <td>1</td>\n",
       "      <td>0</td>\n",
       "      <td>0</td>\n",
       "      <td>-1</td>\n",
       "      <td>-1</td>\n",
       "      <td>1</td>\n",
       "      <td>9</td>\n",
       "      <td>0</td>\n",
       "      <td>0</td>\n",
       "      <td>40</td>\n",
       "      <td>1</td>\n",
       "    </tr>\n",
       "  </tbody>\n",
       "</table>\n",
       "</div>"
      ],
      "text/plain": [
       "   Indendation  Indendation Consistent?  \\\n",
       "0            4                        1   \n",
       "1            2                        1   \n",
       "2            9                        0   \n",
       "3            2                        1   \n",
       "4            2                        1   \n",
       "\n",
       "   Whitespace around code to improve readability?  Used == instead of equals  \\\n",
       "0                                               1                         -1   \n",
       "1                                               0                         -1   \n",
       "2                                               0                         -1   \n",
       "3                                               1                         -1   \n",
       "4                                               1                          1   \n",
       "\n",
       "   Single/Nondescriptive variable names  Comments  Empty Catch Block  \\\n",
       "0                                     2         0                 -1   \n",
       "1                                     6         0                 -1   \n",
       "2                                     1         1                 -1   \n",
       "3                                     0         5                  0   \n",
       "4                                     0         0                 -1   \n",
       "\n",
       "   Generic Exceptions  Explicit Initialization  Method Length  Magic Numbers  \\\n",
       "0                  -1                        0              6              0   \n",
       "1                  -1                        1              9              0   \n",
       "2                  -1                        1              6              1   \n",
       "3                   0                        1             48              0   \n",
       "4                  -1                        1              9              0   \n",
       "\n",
       "   # of magic numbers  Line Length  Boolean Exp Complexity  \n",
       "0                   0           25                      -1  \n",
       "1                   0           70                      -1  \n",
       "2                   1           40                      -1  \n",
       "3                   0          115                       1  \n",
       "4                   0           40                       1  "
      ]
     },
     "execution_count": 24,
     "metadata": {},
     "output_type": "execute_result"
    }
   ],
   "source": [
    "features = converted_df.ix[:, 'Indendation':'Boolean Exp Complexity']\n",
    "features.head()"
   ]
  },
  {
   "cell_type": "code",
   "execution_count": 26,
   "metadata": {
    "collapsed": false
   },
   "outputs": [
    {
     "data": {
      "text/plain": [
       "0   -1\n",
       "1   -1\n",
       "2    1\n",
       "3    1\n",
       "4   -1\n",
       "Name: FINAL CODE QUALITY METRIC (1, Very 1, Decent, -1, Very -1), dtype: int64"
      ]
     },
     "execution_count": 26,
     "metadata": {},
     "output_type": "execute_result"
    }
   ],
   "source": [
    "values = converted_df['FINAL CODE QUALITY METRIC (1, Very 1, Decent, -1, Very -1)']\n",
    "values.head()"
   ]
  },
  {
   "cell_type": "code",
   "execution_count": 33,
   "metadata": {
    "collapsed": false
   },
   "outputs": [],
   "source": [
    "X_train, X_test, y_train, y_test = train_test_split(features, values, test_size = 0.20, random_state = 13)"
   ]
  },
  {
   "cell_type": "markdown",
   "metadata": {},
   "source": [
    "# Models"
   ]
  },
  {
   "cell_type": "markdown",
   "metadata": {},
   "source": [
    "### SVM"
   ]
  },
  {
   "cell_type": "code",
   "execution_count": 41,
   "metadata": {
    "collapsed": true
   },
   "outputs": [],
   "source": [
    "from sklearn import svm\n",
    "from sklearn.metrics import accuracy_score"
   ]
  },
  {
   "cell_type": "code",
   "execution_count": 38,
   "metadata": {
    "collapsed": false
   },
   "outputs": [
    {
     "data": {
      "text/plain": [
       "SVC(C=1.0, cache_size=200, class_weight=None, coef0=0.0,\n",
       "  decision_function_shape=None, degree=3, gamma='auto', kernel='rbf',\n",
       "  max_iter=-1, probability=False, random_state=None, shrinking=True,\n",
       "  tol=0.001, verbose=False)"
      ]
     },
     "execution_count": 38,
     "metadata": {},
     "output_type": "execute_result"
    }
   ],
   "source": [
    "clf = svm.SVC()\n",
    "clf.fit(X_train, y_train)"
   ]
  },
  {
   "cell_type": "code",
   "execution_count": 43,
   "metadata": {
    "collapsed": false
   },
   "outputs": [],
   "source": [
    "y_pred = clf.predict(X_test)"
   ]
  },
  {
   "cell_type": "code",
   "execution_count": 44,
   "metadata": {
    "collapsed": false
   },
   "outputs": [
    {
     "data": {
      "text/plain": [
       "0.58333333333333337"
      ]
     },
     "execution_count": 44,
     "metadata": {},
     "output_type": "execute_result"
    }
   ],
   "source": [
    "accuracy_score(y_test, y_pred)"
   ]
  },
  {
   "cell_type": "code",
   "execution_count": null,
   "metadata": {
    "collapsed": true
   },
   "outputs": [],
   "source": []
  }
 ],
 "metadata": {
  "kernelspec": {
   "display_name": "Python 2",
   "language": "python",
   "name": "python2"
  },
  "language_info": {
   "codemirror_mode": {
    "name": "ipython",
    "version": 2
   },
   "file_extension": ".py",
   "mimetype": "text/x-python",
   "name": "python",
   "nbconvert_exporter": "python",
   "pygments_lexer": "ipython2",
   "version": "2.7.11"
  }
 },
 "nbformat": 4,
 "nbformat_minor": 0
}
