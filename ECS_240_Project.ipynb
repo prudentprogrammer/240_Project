{
 "cells": [
  {
   "cell_type": "markdown",
   "metadata": {},
   "source": [
    "# Import all the existing libraries and dataset"
   ]
  },
  {
   "cell_type": "code",
   "execution_count": 99,
   "metadata": {
    "collapsed": true
   },
   "outputs": [],
   "source": [
    "import numpy as np\n",
    "import pandas as pd\n",
    "from sklearn.cross_validation import train_test_split\n",
    "from sklearn.cross_validation import cross_val_predict\n",
    "from sklearn.learning_curve import validation_curve\n",
    "from sklearn.metrics import accuracy_score\n",
    "import matplotlib.pyplot as plt"
   ]
  },
  {
   "cell_type": "code",
   "execution_count": 7,
   "metadata": {
    "collapsed": false
   },
   "outputs": [],
   "source": [
    "raw_csv_path = \"./Data_Annotations.csv\"\n",
    "converted_csv_path = \"./Data_Annotations_Converted.csv\"\n",
    "raw_df = pd.read_csv(raw_csv_path)\n",
    "converted_df = pd.read_csv(converted_csv_path)"
   ]
  },
  {
   "cell_type": "code",
   "execution_count": 8,
   "metadata": {
    "collapsed": false
   },
   "outputs": [
    {
     "data": {
      "text/html": [
       "<div>\n",
       "<table border=\"1\" class=\"dataframe\">\n",
       "  <thead>\n",
       "    <tr style=\"text-align: right;\">\n",
       "      <th></th>\n",
       "      <th>Name of file</th>\n",
       "      <th>Indendation</th>\n",
       "      <th>Indendation Consistent?</th>\n",
       "      <th>Whitespace around code to improve readability?</th>\n",
       "      <th>Used == instead of equals</th>\n",
       "      <th>Single/Nondescriptive variable names</th>\n",
       "      <th>Comments</th>\n",
       "      <th>Empty Catch Block</th>\n",
       "      <th>Generic Exceptions</th>\n",
       "      <th>Explicit Initialization</th>\n",
       "      <th>Method Length</th>\n",
       "      <th>Magic Numbers</th>\n",
       "      <th># of magic numbers</th>\n",
       "      <th>Line Length</th>\n",
       "      <th>Boolean Exp Complexity</th>\n",
       "      <th>FINAL CODE QUALITY METRIC (1, Very 1, Decent, -1, Very -1)</th>\n",
       "    </tr>\n",
       "  </thead>\n",
       "  <tbody>\n",
       "    <tr>\n",
       "      <th>0</th>\n",
       "      <td>Snake.java</td>\n",
       "      <td>4</td>\n",
       "      <td>1</td>\n",
       "      <td>1</td>\n",
       "      <td>-1</td>\n",
       "      <td>2</td>\n",
       "      <td>0</td>\n",
       "      <td>-1</td>\n",
       "      <td>-1</td>\n",
       "      <td>0</td>\n",
       "      <td>6</td>\n",
       "      <td>0</td>\n",
       "      <td>0</td>\n",
       "      <td>25</td>\n",
       "      <td>-1</td>\n",
       "      <td>-1</td>\n",
       "    </tr>\n",
       "    <tr>\n",
       "      <th>1</th>\n",
       "      <td>TimeTest.java</td>\n",
       "      <td>2</td>\n",
       "      <td>1</td>\n",
       "      <td>0</td>\n",
       "      <td>-1</td>\n",
       "      <td>6</td>\n",
       "      <td>0</td>\n",
       "      <td>-1</td>\n",
       "      <td>-1</td>\n",
       "      <td>1</td>\n",
       "      <td>9</td>\n",
       "      <td>0</td>\n",
       "      <td>0</td>\n",
       "      <td>70</td>\n",
       "      <td>-1</td>\n",
       "      <td>-1</td>\n",
       "    </tr>\n",
       "    <tr>\n",
       "      <th>2</th>\n",
       "      <td>HelloWorld.java</td>\n",
       "      <td>9</td>\n",
       "      <td>0</td>\n",
       "      <td>0</td>\n",
       "      <td>-1</td>\n",
       "      <td>1</td>\n",
       "      <td>1</td>\n",
       "      <td>-1</td>\n",
       "      <td>-1</td>\n",
       "      <td>1</td>\n",
       "      <td>6</td>\n",
       "      <td>1</td>\n",
       "      <td>1</td>\n",
       "      <td>40</td>\n",
       "      <td>-1</td>\n",
       "      <td>1</td>\n",
       "    </tr>\n",
       "    <tr>\n",
       "      <th>3</th>\n",
       "      <td>NoDisconnectManager.java</td>\n",
       "      <td>2</td>\n",
       "      <td>1</td>\n",
       "      <td>1</td>\n",
       "      <td>-1</td>\n",
       "      <td>0</td>\n",
       "      <td>5</td>\n",
       "      <td>0</td>\n",
       "      <td>0</td>\n",
       "      <td>1</td>\n",
       "      <td>48</td>\n",
       "      <td>0</td>\n",
       "      <td>0</td>\n",
       "      <td>115</td>\n",
       "      <td>1</td>\n",
       "      <td>1</td>\n",
       "    </tr>\n",
       "    <tr>\n",
       "      <th>4</th>\n",
       "      <td>TestIntegerNull.java</td>\n",
       "      <td>2</td>\n",
       "      <td>1</td>\n",
       "      <td>1</td>\n",
       "      <td>1</td>\n",
       "      <td>0</td>\n",
       "      <td>0</td>\n",
       "      <td>-1</td>\n",
       "      <td>-1</td>\n",
       "      <td>1</td>\n",
       "      <td>9</td>\n",
       "      <td>0</td>\n",
       "      <td>0</td>\n",
       "      <td>40</td>\n",
       "      <td>1</td>\n",
       "      <td>-1</td>\n",
       "    </tr>\n",
       "  </tbody>\n",
       "</table>\n",
       "</div>"
      ],
      "text/plain": [
       "               Name of file  Indendation  Indendation Consistent?  \\\n",
       "0                Snake.java            4                        1   \n",
       "1             TimeTest.java            2                        1   \n",
       "2           HelloWorld.java            9                        0   \n",
       "3  NoDisconnectManager.java            2                        1   \n",
       "4      TestIntegerNull.java            2                        1   \n",
       "\n",
       "   Whitespace around code to improve readability?  Used == instead of equals  \\\n",
       "0                                               1                         -1   \n",
       "1                                               0                         -1   \n",
       "2                                               0                         -1   \n",
       "3                                               1                         -1   \n",
       "4                                               1                          1   \n",
       "\n",
       "   Single/Nondescriptive variable names  Comments  Empty Catch Block  \\\n",
       "0                                     2         0                 -1   \n",
       "1                                     6         0                 -1   \n",
       "2                                     1         1                 -1   \n",
       "3                                     0         5                  0   \n",
       "4                                     0         0                 -1   \n",
       "\n",
       "   Generic Exceptions  Explicit Initialization  Method Length  Magic Numbers  \\\n",
       "0                  -1                        0              6              0   \n",
       "1                  -1                        1              9              0   \n",
       "2                  -1                        1              6              1   \n",
       "3                   0                        1             48              0   \n",
       "4                  -1                        1              9              0   \n",
       "\n",
       "   # of magic numbers  Line Length  Boolean Exp Complexity  \\\n",
       "0                   0           25                      -1   \n",
       "1                   0           70                      -1   \n",
       "2                   1           40                      -1   \n",
       "3                   0          115                       1   \n",
       "4                   0           40                       1   \n",
       "\n",
       "   FINAL CODE QUALITY METRIC (1, Very 1, Decent, -1, Very -1)  \n",
       "0                                                 -1           \n",
       "1                                                 -1           \n",
       "2                                                  1           \n",
       "3                                                  1           \n",
       "4                                                 -1           "
      ]
     },
     "execution_count": 8,
     "metadata": {},
     "output_type": "execute_result"
    }
   ],
   "source": [
    "# Print out both the converted contents\n",
    "converted_df.head()"
   ]
  },
  {
   "cell_type": "code",
   "execution_count": 9,
   "metadata": {
    "collapsed": false
   },
   "outputs": [
    {
     "data": {
      "text/html": [
       "<div>\n",
       "<table border=\"1\" class=\"dataframe\">\n",
       "  <thead>\n",
       "    <tr style=\"text-align: right;\">\n",
       "      <th></th>\n",
       "      <th>Name of file</th>\n",
       "      <th>Indendation</th>\n",
       "      <th>Indendation Consistent?</th>\n",
       "      <th>Whitespace around code to improve readability?</th>\n",
       "      <th>Used == instead of equals</th>\n",
       "      <th>Single/Nondescriptive variable names</th>\n",
       "      <th>Comments</th>\n",
       "      <th>Empty Catch Block</th>\n",
       "      <th>Generic Exceptions</th>\n",
       "      <th>Explicit Initialization</th>\n",
       "      <th>Method Length</th>\n",
       "      <th>Magic Numbers</th>\n",
       "      <th># of magic numbers</th>\n",
       "      <th>Line Length</th>\n",
       "      <th>Boolean Exp Complexity</th>\n",
       "      <th>FINAL CODE QUALITY METRIC (Good, Very Good, Decent, Bad, Very Bad)</th>\n",
       "    </tr>\n",
       "  </thead>\n",
       "  <tbody>\n",
       "    <tr>\n",
       "      <th>0</th>\n",
       "      <td>Snake.java</td>\n",
       "      <td>4</td>\n",
       "      <td>Yes</td>\n",
       "      <td>Yes</td>\n",
       "      <td>NaN</td>\n",
       "      <td>2</td>\n",
       "      <td>0</td>\n",
       "      <td>NaN</td>\n",
       "      <td>NaN</td>\n",
       "      <td>No</td>\n",
       "      <td>6</td>\n",
       "      <td>No</td>\n",
       "      <td>0</td>\n",
       "      <td>25</td>\n",
       "      <td>NaN</td>\n",
       "      <td>Bad</td>\n",
       "    </tr>\n",
       "    <tr>\n",
       "      <th>1</th>\n",
       "      <td>TimeTest.java</td>\n",
       "      <td>2</td>\n",
       "      <td>Yes</td>\n",
       "      <td>No</td>\n",
       "      <td>NaN</td>\n",
       "      <td>6</td>\n",
       "      <td>0</td>\n",
       "      <td>NaN</td>\n",
       "      <td>NaN</td>\n",
       "      <td>Yes</td>\n",
       "      <td>9</td>\n",
       "      <td>No</td>\n",
       "      <td>0</td>\n",
       "      <td>70</td>\n",
       "      <td>NaN</td>\n",
       "      <td>Bad</td>\n",
       "    </tr>\n",
       "    <tr>\n",
       "      <th>2</th>\n",
       "      <td>HelloWorld.java</td>\n",
       "      <td>9</td>\n",
       "      <td>No</td>\n",
       "      <td>No</td>\n",
       "      <td>NaN</td>\n",
       "      <td>1</td>\n",
       "      <td>1</td>\n",
       "      <td>NaN</td>\n",
       "      <td>NaN</td>\n",
       "      <td>Yes</td>\n",
       "      <td>6</td>\n",
       "      <td>Yes</td>\n",
       "      <td>1</td>\n",
       "      <td>40</td>\n",
       "      <td>NaN</td>\n",
       "      <td>Good</td>\n",
       "    </tr>\n",
       "    <tr>\n",
       "      <th>3</th>\n",
       "      <td>NoDisconnectManager.java</td>\n",
       "      <td>2</td>\n",
       "      <td>Yes</td>\n",
       "      <td>Yes</td>\n",
       "      <td>NaN</td>\n",
       "      <td>0</td>\n",
       "      <td>5</td>\n",
       "      <td>No</td>\n",
       "      <td>No</td>\n",
       "      <td>Yes</td>\n",
       "      <td>48</td>\n",
       "      <td>No</td>\n",
       "      <td>0</td>\n",
       "      <td>115</td>\n",
       "      <td>1</td>\n",
       "      <td>Good</td>\n",
       "    </tr>\n",
       "    <tr>\n",
       "      <th>4</th>\n",
       "      <td>TestIntegerNull.java</td>\n",
       "      <td>2</td>\n",
       "      <td>Yes</td>\n",
       "      <td>Yes</td>\n",
       "      <td>Yes</td>\n",
       "      <td>0</td>\n",
       "      <td>0</td>\n",
       "      <td>NaN</td>\n",
       "      <td>NaN</td>\n",
       "      <td>Yes</td>\n",
       "      <td>9</td>\n",
       "      <td>No</td>\n",
       "      <td>0</td>\n",
       "      <td>40</td>\n",
       "      <td>1</td>\n",
       "      <td>Bad</td>\n",
       "    </tr>\n",
       "  </tbody>\n",
       "</table>\n",
       "</div>"
      ],
      "text/plain": [
       "               Name of file  Indendation Indendation Consistent?  \\\n",
       "0                Snake.java            4                     Yes   \n",
       "1             TimeTest.java            2                     Yes   \n",
       "2           HelloWorld.java            9                      No   \n",
       "3  NoDisconnectManager.java            2                     Yes   \n",
       "4      TestIntegerNull.java            2                     Yes   \n",
       "\n",
       "  Whitespace around code to improve readability? Used == instead of equals  \\\n",
       "0                                            Yes                       NaN   \n",
       "1                                             No                       NaN   \n",
       "2                                             No                       NaN   \n",
       "3                                            Yes                       NaN   \n",
       "4                                            Yes                       Yes   \n",
       "\n",
       "   Single/Nondescriptive variable names  Comments Empty Catch Block  \\\n",
       "0                                     2         0               NaN   \n",
       "1                                     6         0               NaN   \n",
       "2                                     1         1               NaN   \n",
       "3                                     0         5                No   \n",
       "4                                     0         0               NaN   \n",
       "\n",
       "  Generic Exceptions Explicit Initialization  Method Length Magic Numbers  \\\n",
       "0                NaN                      No              6            No   \n",
       "1                NaN                     Yes              9            No   \n",
       "2                NaN                     Yes              6           Yes   \n",
       "3                 No                     Yes             48            No   \n",
       "4                NaN                     Yes              9            No   \n",
       "\n",
       "   # of magic numbers  Line Length  Boolean Exp Complexity  \\\n",
       "0                   0           25                     NaN   \n",
       "1                   0           70                     NaN   \n",
       "2                   1           40                     NaN   \n",
       "3                   0          115                       1   \n",
       "4                   0           40                       1   \n",
       "\n",
       "  FINAL CODE QUALITY METRIC (Good, Very Good, Decent, Bad, Very Bad)  \n",
       "0                                                Bad                  \n",
       "1                                                Bad                  \n",
       "2                                               Good                  \n",
       "3                                               Good                  \n",
       "4                                                Bad                  "
      ]
     },
     "execution_count": 9,
     "metadata": {},
     "output_type": "execute_result"
    }
   ],
   "source": [
    "# Print out the raw contents\n",
    "raw_df.head()"
   ]
  },
  {
   "cell_type": "markdown",
   "metadata": {},
   "source": [
    "# Start the setup for models"
   ]
  },
  {
   "cell_type": "code",
   "execution_count": 186,
   "metadata": {
    "collapsed": false
   },
   "outputs": [
    {
     "data": {
      "text/html": [
       "<div>\n",
       "<table border=\"1\" class=\"dataframe\">\n",
       "  <thead>\n",
       "    <tr style=\"text-align: right;\">\n",
       "      <th></th>\n",
       "      <th>Indendation</th>\n",
       "      <th>Indendation Consistent?</th>\n",
       "      <th>Whitespace around code to improve readability?</th>\n",
       "      <th>Used == instead of equals</th>\n",
       "      <th>Single/Nondescriptive variable names</th>\n",
       "      <th>Comments</th>\n",
       "      <th>Empty Catch Block</th>\n",
       "      <th>Generic Exceptions</th>\n",
       "      <th>Explicit Initialization</th>\n",
       "      <th>Method Length</th>\n",
       "      <th>Magic Numbers</th>\n",
       "      <th># of magic numbers</th>\n",
       "      <th>Line Length</th>\n",
       "      <th>Boolean Exp Complexity</th>\n",
       "    </tr>\n",
       "  </thead>\n",
       "  <tbody>\n",
       "    <tr>\n",
       "      <th>0</th>\n",
       "      <td>4</td>\n",
       "      <td>1</td>\n",
       "      <td>1</td>\n",
       "      <td>-1</td>\n",
       "      <td>2</td>\n",
       "      <td>0</td>\n",
       "      <td>-1</td>\n",
       "      <td>-1</td>\n",
       "      <td>0</td>\n",
       "      <td>6</td>\n",
       "      <td>0</td>\n",
       "      <td>0</td>\n",
       "      <td>25</td>\n",
       "      <td>-1</td>\n",
       "    </tr>\n",
       "    <tr>\n",
       "      <th>1</th>\n",
       "      <td>2</td>\n",
       "      <td>1</td>\n",
       "      <td>0</td>\n",
       "      <td>-1</td>\n",
       "      <td>6</td>\n",
       "      <td>0</td>\n",
       "      <td>-1</td>\n",
       "      <td>-1</td>\n",
       "      <td>1</td>\n",
       "      <td>9</td>\n",
       "      <td>0</td>\n",
       "      <td>0</td>\n",
       "      <td>70</td>\n",
       "      <td>-1</td>\n",
       "    </tr>\n",
       "    <tr>\n",
       "      <th>2</th>\n",
       "      <td>9</td>\n",
       "      <td>0</td>\n",
       "      <td>0</td>\n",
       "      <td>-1</td>\n",
       "      <td>1</td>\n",
       "      <td>1</td>\n",
       "      <td>-1</td>\n",
       "      <td>-1</td>\n",
       "      <td>1</td>\n",
       "      <td>6</td>\n",
       "      <td>1</td>\n",
       "      <td>1</td>\n",
       "      <td>40</td>\n",
       "      <td>-1</td>\n",
       "    </tr>\n",
       "    <tr>\n",
       "      <th>3</th>\n",
       "      <td>2</td>\n",
       "      <td>1</td>\n",
       "      <td>1</td>\n",
       "      <td>-1</td>\n",
       "      <td>0</td>\n",
       "      <td>5</td>\n",
       "      <td>0</td>\n",
       "      <td>0</td>\n",
       "      <td>1</td>\n",
       "      <td>48</td>\n",
       "      <td>0</td>\n",
       "      <td>0</td>\n",
       "      <td>115</td>\n",
       "      <td>1</td>\n",
       "    </tr>\n",
       "    <tr>\n",
       "      <th>4</th>\n",
       "      <td>2</td>\n",
       "      <td>1</td>\n",
       "      <td>1</td>\n",
       "      <td>1</td>\n",
       "      <td>0</td>\n",
       "      <td>0</td>\n",
       "      <td>-1</td>\n",
       "      <td>-1</td>\n",
       "      <td>1</td>\n",
       "      <td>9</td>\n",
       "      <td>0</td>\n",
       "      <td>0</td>\n",
       "      <td>40</td>\n",
       "      <td>1</td>\n",
       "    </tr>\n",
       "  </tbody>\n",
       "</table>\n",
       "</div>"
      ],
      "text/plain": [
       "   Indendation  Indendation Consistent?  \\\n",
       "0            4                        1   \n",
       "1            2                        1   \n",
       "2            9                        0   \n",
       "3            2                        1   \n",
       "4            2                        1   \n",
       "\n",
       "   Whitespace around code to improve readability?  Used == instead of equals  \\\n",
       "0                                               1                         -1   \n",
       "1                                               0                         -1   \n",
       "2                                               0                         -1   \n",
       "3                                               1                         -1   \n",
       "4                                               1                          1   \n",
       "\n",
       "   Single/Nondescriptive variable names  Comments  Empty Catch Block  \\\n",
       "0                                     2         0                 -1   \n",
       "1                                     6         0                 -1   \n",
       "2                                     1         1                 -1   \n",
       "3                                     0         5                  0   \n",
       "4                                     0         0                 -1   \n",
       "\n",
       "   Generic Exceptions  Explicit Initialization  Method Length  Magic Numbers  \\\n",
       "0                  -1                        0              6              0   \n",
       "1                  -1                        1              9              0   \n",
       "2                  -1                        1              6              1   \n",
       "3                   0                        1             48              0   \n",
       "4                  -1                        1              9              0   \n",
       "\n",
       "   # of magic numbers  Line Length  Boolean Exp Complexity  \n",
       "0                   0           25                      -1  \n",
       "1                   0           70                      -1  \n",
       "2                   1           40                      -1  \n",
       "3                   0          115                       1  \n",
       "4                   0           40                       1  "
      ]
     },
     "execution_count": 186,
     "metadata": {},
     "output_type": "execute_result"
    }
   ],
   "source": [
    "features = converted_df.ix[:, 'Indendation':'Boolean Exp Complexity']\n",
    "#features.drop('Magic Numbers')\n",
    "features.head()"
   ]
  },
  {
   "cell_type": "code",
   "execution_count": 13,
   "metadata": {
    "collapsed": false
   },
   "outputs": [
    {
     "data": {
      "text/plain": [
       "0   -1\n",
       "1   -1\n",
       "2    1\n",
       "3    1\n",
       "4   -1\n",
       "Name: FINAL CODE QUALITY METRIC (1, Very 1, Decent, -1, Very -1), dtype: int64"
      ]
     },
     "execution_count": 13,
     "metadata": {},
     "output_type": "execute_result"
    }
   ],
   "source": [
    "values = converted_df['FINAL CODE QUALITY METRIC (1, Very 1, Decent, -1, Very -1)']\n",
    "values.head()"
   ]
  },
  {
   "cell_type": "code",
   "execution_count": 14,
   "metadata": {
    "collapsed": false
   },
   "outputs": [],
   "source": [
    "X_train, X_test, y_train, y_test = train_test_split(features, values, test_size = 0.20, random_state = 13)"
   ]
  },
  {
   "cell_type": "markdown",
   "metadata": {},
   "source": [
    "# Models"
   ]
  },
  {
   "cell_type": "code",
   "execution_count": null,
   "metadata": {
    "collapsed": true
   },
   "outputs": [],
   "source": [
    "#Please run Utility Functions code  prior to the following steps. \n",
    "#Utility functions are located at the end of this notebook."
   ]
  },
  {
   "cell_type": "markdown",
   "metadata": {},
   "source": [
    "### Linear Regression"
   ]
  },
  {
   "cell_type": "code",
   "execution_count": 15,
   "metadata": {
    "collapsed": true
   },
   "outputs": [],
   "source": [
    "from sklearn import linear_model"
   ]
  },
  {
   "cell_type": "code",
   "execution_count": 73,
   "metadata": {
    "collapsed": false
   },
   "outputs": [
    {
     "data": {
      "text/plain": [
       "LinearRegression(copy_X=True, fit_intercept=True, n_jobs=1, normalize=False)"
      ]
     },
     "execution_count": 73,
     "metadata": {},
     "output_type": "execute_result"
    }
   ],
   "source": [
    "clf_linear = linear_model.LinearRegression()\n",
    "clf_linear.fit(X_train, y_train)"
   ]
  },
  {
   "cell_type": "code",
   "execution_count": 74,
   "metadata": {
    "collapsed": false
   },
   "outputs": [
    {
     "data": {
      "text/plain": [
       "array([-1.00325048,  0.36087905,  0.43948159,  0.30962588, -0.22713099,\n",
       "        0.54411098, -0.36177908,  0.93353815, -0.19579198,  0.71533081,\n",
       "        0.45845042, -0.46938696])"
      ]
     },
     "execution_count": 74,
     "metadata": {},
     "output_type": "execute_result"
    }
   ],
   "source": [
    "y_pred_linear = clf_linear.predict(X_test)\n",
    "y_pred_linear"
   ]
  },
  {
   "cell_type": "code",
   "execution_count": 76,
   "metadata": {
    "collapsed": false
   },
   "outputs": [],
   "source": [
    "#Convert continous predicted values from regression to class labels based on a threshold\n",
    "y_pred_threshold_linear = convert2class(y_pred_linear)"
   ]
  },
  {
   "cell_type": "code",
   "execution_count": 77,
   "metadata": {
    "collapsed": false
   },
   "outputs": [
    {
     "data": {
      "text/plain": [
       "0.66666666666666663"
      ]
     },
     "execution_count": 77,
     "metadata": {},
     "output_type": "execute_result"
    }
   ],
   "source": [
    "accuracy_score(y_test, y_pred_threshold_linear)"
   ]
  },
  {
   "cell_type": "markdown",
   "metadata": {},
   "source": [
    "### RBF Kernel SVM"
   ]
  },
  {
   "cell_type": "code",
   "execution_count": 54,
   "metadata": {
    "collapsed": true
   },
   "outputs": [],
   "source": [
    "from sklearn import svm"
   ]
  },
  {
   "cell_type": "code",
   "execution_count": 175,
   "metadata": {
    "collapsed": false
   },
   "outputs": [
    {
     "name": "stdout",
     "output_type": "stream",
     "text": [
      "[  1.00000000e-06   3.59381366e-06   1.29154967e-05   4.64158883e-05\n",
      "   1.66810054e-04   5.99484250e-04   2.15443469e-03   7.74263683e-03\n",
      "   2.78255940e-02   1.00000000e-01]\n"
     ]
    }
   ],
   "source": [
    "#Validation Curve for model parameter space\n",
    "plot_validation_curve_svm(features, values, 'rbf')"
   ]
  },
  {
   "cell_type": "code",
   "execution_count": 176,
   "metadata": {
    "collapsed": false
   },
   "outputs": [
    {
     "data": {
      "text/plain": [
       "SVC(C=1.0, cache_size=200, class_weight=None, coef0=0.0,\n",
       "  decision_function_shape=None, degree=3, gamma=0.00774263683,\n",
       "  kernel='rbf', max_iter=-1, probability=False, random_state=None,\n",
       "  shrinking=True, tol=0.001, verbose=False)"
      ]
     },
     "execution_count": 176,
     "metadata": {},
     "output_type": "execute_result"
    }
   ],
   "source": [
    "clf_svm_rbf = svm.SVC(gamma = 7.74263683e-03)\n",
    "clf_svm_rbf.fit(X_train, y_train)"
   ]
  },
  {
   "cell_type": "code",
   "execution_count": 177,
   "metadata": {
    "collapsed": false
   },
   "outputs": [
    {
     "data": {
      "text/plain": [
       "array([-1,  1, -1, -1, -1, -1, -1,  1,  1,  1,  1, -1], dtype=int64)"
      ]
     },
     "execution_count": 177,
     "metadata": {},
     "output_type": "execute_result"
    }
   ],
   "source": [
    "y_pred_svm_rbf = clf_svm_rbf.predict(X_test)\n",
    "y_pred_svm_rbf"
   ]
  },
  {
   "cell_type": "code",
   "execution_count": 178,
   "metadata": {
    "collapsed": false
   },
   "outputs": [
    {
     "data": {
      "text/plain": [
       "0.5"
      ]
     },
     "execution_count": 178,
     "metadata": {},
     "output_type": "execute_result"
    }
   ],
   "source": [
    "accuracy_score(y_test, y_pred_svm_rbf)"
   ]
  },
  {
   "cell_type": "markdown",
   "metadata": {},
   "source": [
    "### Poly Kernel SVM"
   ]
  },
  {
   "cell_type": "code",
   "execution_count": 179,
   "metadata": {
    "collapsed": false
   },
   "outputs": [
    {
     "name": "stdout",
     "output_type": "stream",
     "text": [
      "[  1.00000000e-06   3.59381366e-06   1.29154967e-05   4.64158883e-05\n",
      "   1.66810054e-04   5.99484250e-04   2.15443469e-03   7.74263683e-03\n",
      "   2.78255940e-02   1.00000000e-01]\n"
     ]
    }
   ],
   "source": [
    "#Validation Curve for model parameter space\n",
    "plot_validation_curve_svm(features, values, 'poly')"
   ]
  },
  {
   "cell_type": "code",
   "execution_count": 180,
   "metadata": {
    "collapsed": false
   },
   "outputs": [
    {
     "data": {
      "text/plain": [
       "SVC(C=1.0, cache_size=200, class_weight=None, coef0=0.0,\n",
       "  decision_function_shape=None, degree=3, gamma=0.00774263683,\n",
       "  kernel='poly', max_iter=-1, probability=False, random_state=None,\n",
       "  shrinking=True, tol=0.001, verbose=False)"
      ]
     },
     "execution_count": 180,
     "metadata": {},
     "output_type": "execute_result"
    }
   ],
   "source": [
    "clf_svm_poly = svm.SVC(gamma = 7.74263683e-03, kernel = 'poly')\n",
    "clf_svm_poly.fit(X_train, y_train)"
   ]
  },
  {
   "cell_type": "code",
   "execution_count": 181,
   "metadata": {
    "collapsed": false
   },
   "outputs": [
    {
     "data": {
      "text/plain": [
       "array([-1,  1,  1,  1, -1,  1,  1,  1, -1,  1,  1, -1], dtype=int64)"
      ]
     },
     "execution_count": 181,
     "metadata": {},
     "output_type": "execute_result"
    }
   ],
   "source": [
    "y_pred_svm_poly = clf_svm_poly.predict(X_test)\n",
    "y_pred_svm_poly"
   ]
  },
  {
   "cell_type": "code",
   "execution_count": 182,
   "metadata": {
    "collapsed": false
   },
   "outputs": [
    {
     "data": {
      "text/plain": [
       "0.75"
      ]
     },
     "execution_count": 182,
     "metadata": {},
     "output_type": "execute_result"
    }
   ],
   "source": [
    "accuracy_score(y_test, y_pred_svm_poly)"
   ]
  },
  {
   "cell_type": "markdown",
   "metadata": {
    "collapsed": true
   },
   "source": [
    "### Random Forest"
   ]
  },
  {
   "cell_type": "code",
   "execution_count": 189,
   "metadata": {
    "collapsed": true
   },
   "outputs": [],
   "source": [
    "from sklearn.ensemble import RandomForestClassifier"
   ]
  },
  {
   "cell_type": "code",
   "execution_count": 194,
   "metadata": {
    "collapsed": false
   },
   "outputs": [
    {
     "data": {
      "text/plain": [
       "RandomForestClassifier(bootstrap=True, class_weight=None, criterion='gini',\n",
       "            max_depth=None, max_features='sqrt', max_leaf_nodes=None,\n",
       "            min_samples_leaf=1, min_samples_split=2,\n",
       "            min_weight_fraction_leaf=0.0, n_estimators=100, n_jobs=1,\n",
       "            oob_score=True, random_state=13, verbose=0, warm_start=True)"
      ]
     },
     "execution_count": 194,
     "metadata": {},
     "output_type": "execute_result"
    }
   ],
   "source": [
    "clf_random_forest = RandomForestClassifier(warm_start=True, oob_score=True,\n",
    "                                            max_features=\"sqrt\",\n",
    "                                            n_estimators=100,\n",
    "                                            random_state=13)\n",
    "clf_random_forest.fit(X_train, y_train)"
   ]
  },
  {
   "cell_type": "code",
   "execution_count": 195,
   "metadata": {
    "collapsed": false
   },
   "outputs": [],
   "source": [
    "y_pred_random_forest = clf_random_forest.predict(X_test)"
   ]
  },
  {
   "cell_type": "code",
   "execution_count": 196,
   "metadata": {
    "collapsed": false
   },
   "outputs": [
    {
     "data": {
      "text/plain": [
       "0.83333333333333337"
      ]
     },
     "execution_count": 196,
     "metadata": {},
     "output_type": "execute_result"
    }
   ],
   "source": [
    "accuracy_score(y_test, y_pred_random_forest)"
   ]
  },
  {
   "cell_type": "markdown",
   "metadata": {},
   "source": [
    "### AdaBoost"
   ]
  },
  {
   "cell_type": "code",
   "execution_count": 187,
   "metadata": {
    "collapsed": true
   },
   "outputs": [],
   "source": [
    "from sklearn.ensemble import AdaBoostClassifier"
   ]
  },
  {
   "cell_type": "code",
   "execution_count": null,
   "metadata": {
    "collapsed": true
   },
   "outputs": [],
   "source": [
    "clf_ada = Ada"
   ]
  },
  {
   "cell_type": "code",
   "execution_count": null,
   "metadata": {
    "collapsed": true
   },
   "outputs": [],
   "source": []
  },
  {
   "cell_type": "code",
   "execution_count": null,
   "metadata": {
    "collapsed": true
   },
   "outputs": [],
   "source": []
  },
  {
   "cell_type": "markdown",
   "metadata": {},
   "source": [
    "### Utility Functions"
   ]
  },
  {
   "cell_type": "code",
   "execution_count": 173,
   "metadata": {
    "collapsed": true
   },
   "outputs": [],
   "source": [
    "#Plot the cv and training scores\n",
    "def plot_validation_curve_svm(X, y, kernel):\n",
    "    #Return numbers spaced evenly on a log scale.\n",
    "    param_range = np.logspace(-6, -1, 10)\n",
    "    print(np.logspace(-6, -1, 10))\n",
    "    train_scores, test_scores = validation_curve(\n",
    "        svm.SVC(kernel = kernel), X, y, param_name=\"gamma\", param_range=param_range,\n",
    "        cv=10, scoring=\"accuracy\", n_jobs=1)\n",
    "    train_scores_mean = np.mean(train_scores, axis=1)\n",
    "    train_scores_std = np.std(train_scores, axis=1)\n",
    "    test_scores_mean = np.mean(test_scores, axis=1)\n",
    "    test_scores_std = np.std(test_scores, axis=1)\n",
    "\n",
    "    plt.title(\"Validation Curve with SVM\")\n",
    "    plt.xlabel(\"$\\gamma$\")\n",
    "    plt.ylabel(\"Score\")\n",
    "    plt.ylim(0.0, 1.1)\n",
    "    plt.semilogx(param_range, train_scores_mean, label=\"Training score\", color=\"r\")\n",
    "    plt.fill_between(param_range, train_scores_mean - train_scores_std,\n",
    "                     train_scores_mean + train_scores_std, alpha=0.2, color=\"r\")\n",
    "    plt.semilogx(param_range, test_scores_mean, label=\"Cross-validation score\",\n",
    "                 color=\"g\")\n",
    "    plt.fill_between(param_range, test_scores_mean - test_scores_std,\n",
    "                     test_scores_mean + test_scores_std, alpha=0.2, color=\"g\")\n",
    "    plt.legend(loc=\"best\")\n",
    "    plt.show()"
   ]
  },
  {
   "cell_type": "code",
   "execution_count": 174,
   "metadata": {
    "collapsed": true
   },
   "outputs": [],
   "source": [
    "#Convert continous predicted values from regression to class labels based on a threshold\n",
    "def convert2class(y_pred):\n",
    "    y_pred_threshold = []\n",
    "    for x in y_pred:\n",
    "        if x >= 0: y_pred_threshold.append(1)\n",
    "        else: y_pred_threshold.append(-1)\n",
    "    return y_pred_threshold"
   ]
  },
  {
   "cell_type": "code",
   "execution_count": null,
   "metadata": {
    "collapsed": true
   },
   "outputs": [],
   "source": []
  }
 ],
 "metadata": {
  "kernelspec": {
   "display_name": "Python 2",
   "language": "python",
   "name": "python2"
  },
  "language_info": {
   "codemirror_mode": {
    "name": "ipython",
    "version": 2
   },
   "file_extension": ".py",
   "mimetype": "text/x-python",
   "name": "python",
   "nbconvert_exporter": "python",
   "pygments_lexer": "ipython2",
   "version": "2.7.11"
  }
 },
 "nbformat": 4,
 "nbformat_minor": 0
}
